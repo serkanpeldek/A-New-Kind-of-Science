{
 "cells": [
  {
   "cell_type": "markdown",
   "metadata": {
    "_uuid": "cbf4b9ece075d9b73a67a1c03cc97a815a6161e2"
   },
   "source": [
    "# <a class=\"anchor\" id=0.></a> Contents\n",
    "\n",
    "* [1.Aim of the Kernel](#1.)\n",
    "* [2. Elementary Cellular Automata](#2.)\n",
    "* [3. Coding Elementary Cellular Automata from Scratch](#3.)\n",
    "* * [3.1. CA_Grid class](#3.1.)\n",
    "* * [3.2. Elementary_CA class](#3.2.)\n",
    "* * [3.3. Demonstrate_CA class](#3.3.)\n",
    "* * [3.4. Show Cellular Automata Patterns for Rules](#3.4.)\n",
    "* [4. Totalistic Cellular Automata](#4.)\n",
    "* * [4.1. Totalistic_CA_Grid class](#4.1.)\n",
    "* * [4.2.Totalistic_CA class](#4.2.)\n",
    "* * [4.3. Show  Patterns for Totalistic Rules](#4.3.)"
   ]
  },
  {
   "cell_type": "markdown",
   "metadata": {
    "_uuid": "42b6ee4ae3f3b47cedd90a9578bb1d6884cacc48"
   },
   "source": [
    "[Go to Contents Menu](#0.)\n",
    "\n",
    "# <a class=\"anchor\" id=1.> </a>1. Aim of the Kernel\n",
    "\n",
    "Aim of this kernel is to introduce  cellular automata and its demostration with python code. \n",
    "\n",
    "Jon von Neumann proposed the concept of Cellular Automata(CA), a model of computation for the functioning of computers to model the self-renewal of biological organisms.\n",
    "\n",
    "CA consists of rules that determine the transition of cells in the grid plane from one state to another. There are a discrete number of states that are proportional to the number of cells that the cell is interacting with. When the rules are applied to a specified number of cells, the cells chage from one state to another, or remain in the same state.\n",
    "\n",
    "Different dimension of cellular automata are designed by researchers. CA  designed in two dimensions when first proposed by Neumman. Then one-dimensional and three-dimensional CA types were proposed. \n"
   ]
  },
  {
   "cell_type": "markdown",
   "metadata": {
    "_uuid": "28960c2718ae331c0fceb23e19bdd080e42d96f7"
   },
   "source": [
    "[Go to Contents Menu](#0.)\n",
    "\n",
    "<a class=\"anchor\" id=2.>2. Cellular Automata Basics</a>\n",
    "\n",
    "An important feature of CA is that its behavior can be shown in a visual way. CA works on a grid plane of cells whose colors are black or white. The state of the cells corresponds to the values of 1 or 0 in the context of the color value in black or white respectively. The next state of each cell is determined by states of its left neighbor, the right neighbor, and its own. It would be useful to examine Figure 1 to better understand the concept of state of cells."
   ]
  },
  {
   "cell_type": "markdown",
   "metadata": {
    "_uuid": "d6ee81a35deb669f6b9e9cd9c27cf61047249df6"
   },
   "source": [
    "![2](http://i.hizliresim.com/P1rZj9.png)\n",
    "Figure 1. Next states of a cell depend on Rule 254"
   ]
  },
  {
   "cell_type": "markdown",
   "metadata": {
    "_uuid": "be5cb620018fd72490530d9d1acfca47f23175a6"
   },
   "source": [
    "The figure above consists of eight separate small shapes. Each small shape consists of three cells on top and one cell below them. For two-state cellular automata, there are eight different states that three cells can have. When three cells at the top are examined, eight different color sequences are seen. The single cell located under the three cells represents the next state of the cell in the middle of the three cells.\n",
    "\n",
    "For Figure 1, the following state of the middle cell can be obtained simply: If the state of one of the three cells is black, the next state of the middle cell becomes black. CA, consisting of three neighboring and two states, can, however, determine the next state according to 256 different way. It is impossible to make a definition for each state transition. There is a better way to do this. A rule number is given for each different state transition.\n",
    "\n",
    "The rule number is determined by the state of the eight underlying cells in the Figure 1. In the cellular automata, the black  and the white cells correspond to the number 1 and 0 respectively. In the above figure, if we write the number equivalents of the individual cells below, we can get the value 11111110. The resulting numerical value is considered to be a binary number. This is because the cells are composed of two states. The number 11111110 is in the binary base is 254 in decimal base. This number is the rule number applied on cell. For example; In Figure 1, the next state of the cell in the middle is obtained according to Rule 254.\n",
    "\n",
    "Because three cells can take up to eight different states, the rule value can consist of eight bits in the binary base. This means that 2 ^ 8 = 256 different rules can be applied\n",
    "\n",
    "The mystery of cellular automata is reserved in the repeated application of rules. The pattern that Rule254 will produce after 10 steps is given in Figure 2."
   ]
  },
  {
   "cell_type": "markdown",
   "metadata": {
    "_uuid": "e036d38aebcdb073b9d06d8228ca450babff3612"
   },
   "source": [
    "\n",
    "![3](http://i.hizliresim.com/MVvM62.png)\n",
    "Figure 2. The pattern that Rule 254 produces after 10 steps."
   ]
  },
  {
   "cell_type": "markdown",
   "metadata": {
    "_uuid": "173363e8cffd0cd0917fbddf4a601a3ade9a23d7"
   },
   "source": [
    "In Figure 2, initianl there is only one black in the cellular grid. This black cell is located in the middle cell in the top row. The above pattern is obtained when Rule 254 is applied ten times to this cellular grid."
   ]
  },
  {
   "cell_type": "markdown",
   "metadata": {
    "_uuid": "a2f6292fc3924fc6bb6503c6a44d4c429e7b26ac"
   },
   "source": [
    "[Go to Contents Menu](#0.)\n",
    "\n",
    "<a class=\"anchor\" id=3.>3. Coding Elemantary Cellular Automata from Scratch</a>\n",
    "In this section, the coding of basic cellular automata will be realized. Three different classes will be created for coding:\n",
    "\n",
    "* CA_Grid class: will be used to form the cellular plane of the desired property (height, width, etc.)\n",
    "* Elementary_CA: Will be used to apply the CA rule to the cellular plane\n",
    "* Demonstrate_CA: Once the rule is applied to the cellular plane, it will be used to show the results obtained"
   ]
  },
  {
   "cell_type": "code",
   "execution_count": null,
   "metadata": {
    "_uuid": "b2877ee3fc3b529725499e7b372215c0a1c50d8d"
   },
   "outputs": [],
   "source": [
    "import numpy as np \n",
    "import matplotlib.pyplot as plt\n",
    "import cv2"
   ]
  },
  {
   "cell_type": "markdown",
   "metadata": {
    "_uuid": "77d99c1a3c48db96f6f324c877fed604e645dd87"
   },
   "source": [
    "[Go to Contents Menu](#0.)\n",
    "\n",
    "<a class=\"anchor\" id=3.1.>3.1. CA_Grid class</a>"
   ]
  },
  {
   "cell_type": "code",
   "execution_count": null,
   "metadata": {
    "_cell_guid": "b1076dfc-b9ad-4769-8c92-a6c4dae69d19",
    "_kg_hide-input": false,
    "_uuid": "8f2839f25d086af736a60e9eeb907d3b93b6e0e5"
   },
   "outputs": [],
   "source": [
    "class CA_Grid:\n",
    "\n",
    "    def __init__(self, height=200, width=400, initial_number_of_black_cell=1):\n",
    "        self.height = height\n",
    "        self.width = width\n",
    "        self.initial_number_of_black_cell = initial_number_of_black_cell\n",
    "        self.grid = None\n",
    "\n",
    "\n",
    "    def __initialize(self,height, width, initial_number_of_black_cell):\n",
    "        self.height = height\n",
    "        self.width = width\n",
    "        self.grid = None\n",
    "        self.initial_number_of_black_cell = initial_number_of_black_cell\n",
    "\n",
    "    def get_grid(self):\n",
    "\n",
    "        if self.initial_number_of_black_cell==1:\n",
    "            self.__single_black_cell_grid()\n",
    "        else:\n",
    "            self.__multiple_black_cell_grid()\n",
    "\n",
    "        return self.grid\n",
    "\n",
    "    def __single_black_cell_grid(self):\n",
    "\n",
    "        \"\"\"\n",
    "        This function creates matrix in heightXwidth dimensions and \n",
    "        assigns 1 to the middle cell in the top row of the matrix.\n",
    "\n",
    "        :return:\n",
    "        \"\"\"\n",
    "        self.grid = np.zeros((self.height, self.width), dtype=np.int32)\n",
    "        self.grid[0, int(self.width / 2)] = 1\n",
    "\n",
    "\n",
    "\n",
    "\n",
    "    def __multiple_black_cell_grid(self):\n",
    "\n",
    "        \"\"\"\n",
    "        This function assigns a value of 1 to the desired \n",
    "        number of cells of the top row of the heightXwitdth matrix. \n",
    "        It ensures that the middle cell is 1.\n",
    "        :return:\n",
    "        \"\"\"\n",
    "\n",
    "\n",
    "\n",
    "        #Calling the function that assigns the value of the middle cell of the top row to 1.\n",
    "        self.__single_black_cell_grid()\n",
    "\n",
    "        \"\"\"remove 1 from the self.initial_number_of_black_cell variable \n",
    "        because the value has been assigned to the middle cell\"\"\"\n",
    "        n=self.initial_number_of_black_cell-1\n",
    "        for i in range(n):\n",
    "            random_col = np.random.randint(0, self.width)\n",
    "            self.grid[0, random_col] = 1\n",
    "\n"
   ]
  },
  {
   "cell_type": "markdown",
   "metadata": {
    "_uuid": "681997fc5822c197c0b26bb7b8a07eb21964082b"
   },
   "source": [
    "[Go to Contents Menu](#0.)\n",
    "\n",
    "<a class=\"anchor\" id=3.2.>3.2. Elementary_CA class</a>"
   ]
  },
  {
   "cell_type": "code",
   "execution_count": null,
   "metadata": {
    "_cell_guid": "79c7e3d0-c299-4dcb-8224-4455121ee9b0",
    "_kg_hide-input": false,
    "_uuid": "d629ff2d2480ee46fbb7e2d37f6b5fab8052498a"
   },
   "outputs": [],
   "source": [
    "class Elementary_CA(CA_Grid):\n",
    "\n",
    "    def __init__(self,grid_apparence=\"normal\",**kwargs):\n",
    "        super().__init__(**kwargs)\n",
    "\n",
    "        self.grid_apparence=grid_apparence\n",
    "\n",
    "\n",
    "        self.transform_vector=np.array([4,2,1])\n",
    "    \n",
    "        self.rule=None\n",
    "\n",
    "        self.rule_binary=None\n",
    "\n",
    "    def set_grid_parameters(self,\n",
    "                            height,\n",
    "                            width,\n",
    "                            initial_number_of_black_cell=1,\n",
    "                            grid_apparence=\"normal\"):\n",
    "        self.height = height\n",
    "        self.width = width\n",
    "        self.initial_number_of_black_cell = initial_number_of_black_cell\n",
    "        \n",
    "        self.grid = None\n",
    "        self.grid_apparence=grid_apparence\n",
    "\n",
    "    def __get_rule_binary(self):\n",
    "        self.rule_binary = np.array([int(b) for b in np.binary_repr(self.rule, 8)], dtype=np.int8)\n",
    "\n",
    "    def generate(self, rule):\n",
    "\n",
    "        self.rule=rule\n",
    "        self.get_grid()\n",
    "        self.__get_rule_binary()\n",
    "\n",
    "        for i in range(self.height-1):\n",
    "            self.grid[i+1,:]=self.step(self.grid[i,:])\n",
    "\n",
    "        self.grid[self.grid==1]=255\n",
    "\n",
    "        if self.grid_apparence==\"wolfram\":\n",
    "            self.grid=cv2.bitwise_not(self.grid)\n",
    "        \n",
    "        return self.grid\n",
    "\n",
    "    def generate_all_ca(self):\n",
    "        all_ca=list()\n",
    "        for i in range(256):\n",
    "            self.generate(i)\n",
    "            all_ca.append(self.grid)\n",
    "\n",
    "        return all_ca\n",
    "\n",
    "\n",
    "    def __get_neighborhood_matrix(self, center):\n",
    "        #vector that holds the neighbors on the left by shifting the row vector to the right\n",
    "        left=np.roll(center, 1)\n",
    "\n",
    "\n",
    "        #vector that holds the neighbors on the rights by shifting the row vector to the left\n",
    "        right=np.roll(center, -1)\n",
    "        \n",
    "        neighborhood_matrix=np.vstack((left, center, right)).astype(np.int8)\n",
    "\n",
    "        return neighborhood_matrix\n",
    "\n",
    "    def step(self, row):\n",
    "        neighborhood_matrix=self.__get_neighborhood_matrix(center=row)\n",
    "\n",
    "\n",
    "\n",
    "        #u=self.transform_vector.reshape((3,1))\n",
    "        #rmts=np.sum(neighborhood_matrix*u, axis=0)\n",
    "\n",
    "        rmts=self.transform_vector.dot(neighborhood_matrix)\n",
    "\n",
    "        return self.rule_binary[7-rmts].astype(np.int8)"
   ]
  },
  {
   "cell_type": "markdown",
   "metadata": {
    "_uuid": "757b9b6603e74cc9928be3c3fd13d6d5149cbefc"
   },
   "source": [
    "[Go to Contents Menu](#0.)\n",
    "\n",
    "<a class=\"anchor\" id=3.3.>3.3. Demonstrate_CA class</a>"
   ]
  },
  {
   "cell_type": "code",
   "execution_count": null,
   "metadata": {
    "_kg_hide-input": false,
    "_uuid": "7da972da2cde352584e9a0f882e0e79f9ccc74ac"
   },
   "outputs": [],
   "source": [
    "class Demonstrate_CA:\n",
    "    def __init__(self):\n",
    "        print(\"Demonstrate_CA object created\")\n",
    "    \n",
    "    def show_rule(self, rule, step):\n",
    "        step=step\n",
    "        elementary_CA=Elementary_CA(height=step, width=step*2, grid_apparence=\"wolfram\")\n",
    "        \n",
    "        rule=rule\n",
    "        generated_image=elementary_CA.generate(rule=rule)\n",
    "\n",
    "        plt.figure(figsize=(15,15))\n",
    "        plt.imshow(generated_image, cmap=\"gray\")\n",
    "        plt.xticks([])\n",
    "        plt.yticks([])\n",
    "        plt.title(\"Demonstration of Rule {} for {} Steps\".format(rule, step))\n",
    "        plt.show()\n",
    "    \n",
    "    def show_rules_between_0_and_127(self):\n",
    "        step=30\n",
    "        elementary_CA=Elementary_CA(height=step, width=step*2, grid_apparence=\"wolfram\")\n",
    "        all_ca_patterns=elementary_CA.generate_all_ca()\n",
    "        \n",
    "        fig,axarr=plt.subplots(nrows=32, ncols=4, figsize=(16, 80))\n",
    "        axarr=axarr.flatten()\n",
    "        for index, pattern_image in enumerate(all_ca_patterns[:128]):\n",
    "            axarr[index].imshow(pattern_image, cmap=\"gray\")\n",
    "            axarr[index].set_xticks([])\n",
    "            axarr[index].set_yticks([])\n",
    "            axarr[index].set_title(\"Rule {}\".format(index))\n",
    "        #plt.suptitle(\"Demonstration of Rules Between 0 and 127\")\n",
    "        plt.show()\n",
    "    \n",
    "    def show_rules_between_128_and_255(self):\n",
    "        step=30\n",
    "        elementary_CA=Elementary_CA(height=step, width=step*2, grid_apparence=\"wolfram\")\n",
    "        all_ca_patterns=elementary_CA.generate_all_ca()\n",
    "        \n",
    "        fig,axarr=plt.subplots(nrows=32, ncols=4, figsize=(16, 80))\n",
    "        axarr=axarr.flatten()\n",
    "        for index, pattern_image in enumerate(all_ca_patterns[128:]):\n",
    "            axarr[index].imshow(pattern_image, cmap=\"gray\")\n",
    "            axarr[index].set_xticks([])\n",
    "            axarr[index].set_yticks([])\n",
    "            axarr[index].set_title(\"Rule {}\".format(index+128))\n",
    "        #plt.suptitle(\"Demonstration of Rules Between 128 and 255\")\n",
    "        plt.show()"
   ]
  },
  {
   "cell_type": "markdown",
   "metadata": {
    "_uuid": "8121e852ddc3e654d49a9ec6ef6e4b59c94b8538"
   },
   "source": [
    "[Go to Contents Menu](#0.)\n",
    "\n",
    "<a class=\"anchor\" id=3.4.>3.4. Show Elementary Cellular Automata Pattern for Rules</a>"
   ]
  },
  {
   "cell_type": "code",
   "execution_count": null,
   "metadata": {
    "_uuid": "c21c8ca2e3968a5f10d6d1f521b2ff289690bb76"
   },
   "outputs": [],
   "source": [
    "demonstrate_ca=Demonstrate_CA()"
   ]
  },
  {
   "cell_type": "code",
   "execution_count": null,
   "metadata": {
    "_uuid": "7bda20b09a960cb7852056c554e5f5eae5951e2e"
   },
   "outputs": [],
   "source": [
    "rules=[60, 73,105, 30, 90, 110]\n",
    "step=100\n",
    "for rule in rules:\n",
    "    print(\"Demontration of rule {} for {} step\".format(rule, step))\n",
    "    demonstrate_ca.show_rule(rule=rule, step=step)"
   ]
  },
  {
   "cell_type": "code",
   "execution_count": null,
   "metadata": {
    "_uuid": "66dbc39cf4e44e428146d4afe082c9f9c93b6ab1"
   },
   "outputs": [],
   "source": [
    "print(\"Rule Demonstration Between 0 and 127\")\n",
    "demonstrate_ca.show_rules_between_0_and_127()\n",
    "print(\"Rule Demontration Between 128 and 255\")\n",
    "demonstrate_ca.show_rules_between_128_and_255()"
   ]
  },
  {
   "cell_type": "markdown",
   "metadata": {
    "_uuid": "f018da34cd463ca0a6ef53497d902667f9074d04"
   },
   "source": [
    "[Go to Contents Menu](#0.)\n",
    "\n",
    "<a class=\"anchor\" id=4.>4. Totalistic Cellular Auotmata</a>\n",
    "\n",
    "Up to this point we talked about two-state cellular automata. The number of rules that cellular automata can have is 256. Since three cells can take up to eight different states, the rule value can consist of eight bits in the binary base. This means that different 2^8  rules can be applied. There is an exponential relationship between the number of rules that can be applied and the number of neighbors. If we formulate this relationship. The number of neighbors to k and the number of states n would be the number of rules  n^(n^k). 2(2^3)= 256. \n",
    "\n",
    "If the number of state increases to three, what will be the result? In this case, the number of rules will be 3^(3^3) = 7 625 597 484 987\". Having so much rule makes it impossible to practice. This can be reduced by taking the rules in certain conditions. Wolfram set a rule for this.\n",
    "\n",
    "0, 1 ve 2 represented by white, gray and black in three state cellular automata demonstration. The next state of the cell is obtained according to the totals of these three cells. Accordingly, the number of rules will be 2187. Let's get a little more of how we get the number of rules. A one-dimensional cellular automaton has three neighbors, including its own, left and right cells. If these cells have a k number of values, can have 3k-2 different rules for totalistic automata. For such a case number k^3k-2 different rule is obtained. If the number of colors is 3, then the number of rules we get is 3^ 3x3-2 = 2187\"."
   ]
  },
  {
   "cell_type": "markdown",
   "metadata": {
    "_uuid": "e26f51176471cef9dc0fa1cadb6869ba055bab29"
   },
   "source": [
    "[Go to Contents Menu](#0.)\n",
    "\n",
    "\n",
    "<a class=\"anchor\" id=\"4.1.\"></a>4.1. Totalistic_CA_Grid class"
   ]
  },
  {
   "cell_type": "code",
   "execution_count": null,
   "metadata": {
    "_kg_hide-input": false,
    "_uuid": "5d66da2e09b82f83c55fae28ea2630940b1bac90"
   },
   "outputs": [],
   "source": [
    "class Totalistic_CA_Grid:\n",
    "\n",
    "    def __init__(self, height=200, width=400, initial_number_of_black_cell=1):\n",
    "        self.height = height\n",
    "        self.width = width\n",
    "        self.initial_number_of_black_cell = initial_number_of_black_cell\n",
    "        self.grid = None\n",
    "\n",
    "\n",
    "    def __initialize(self,height, width, initial_number_of_black_cell):\n",
    "        self.height = height\n",
    "        self.width = width\n",
    "        self.grid = None\n",
    "        self.initial_number_of_black_cell = initial_number_of_black_cell\n",
    "\n",
    "    def get_grid(self):\n",
    "\n",
    "        if self.initial_number_of_black_cell==1:\n",
    "            self.__single_black_cell_grid()\n",
    "        else:\n",
    "            self.__multiple_black_cell_grid()\n",
    "\n",
    "        return self.grid\n",
    "\n",
    "    def __single_black_cell_grid(self):\n",
    "\n",
    "        \"\"\"\n",
    "        This function creates matrix in heightXwidth dimensions and \n",
    "        assigns 1 to the middle cell in the top row of the matrix.\n",
    "\n",
    "        :return:\n",
    "        \"\"\"\n",
    "        self.grid = np.zeros((self.height, self.width), dtype=np.int32)\n",
    "        self.grid[0, int(self.width / 2)] = 2\n",
    "\n",
    "\n",
    "\n",
    "\n",
    "    def __multiple_black_cell_grid(self):\n",
    "\n",
    "        \"\"\"\n",
    "        This function assigns a value of 1 to the desired \n",
    "        number of cells of the top row of the heightXwitdth matrix. \n",
    "        It ensures that the middle cell is 1.\n",
    "        :return:\n",
    "        \"\"\"\n",
    "\n",
    "\n",
    "\n",
    "        #Calling the function that assigns the value of the middle cell of the top row to 1.\n",
    "        self.__single_black_cell_grid()\n",
    "\n",
    "        \"\"\"remove 1 from the self.initial_number_of_black_cell variable \n",
    "        because the value has been assigned to the middle cell\"\"\"\n",
    "        n=self.initial_number_of_black_cell-1\n",
    "        for i in range(n):\n",
    "            random_col = np.random.randint(0, self.width)\n",
    "            self.grid[0, random_col] = 2\n",
    "\n"
   ]
  },
  {
   "cell_type": "markdown",
   "metadata": {
    "_uuid": "0d99bcedc39e986ca10278243f1d566109240966"
   },
   "source": [
    "[Go to Contents Menu](#0.)\n",
    "\n",
    "\n",
    "<a class=\"anchor\" id=\"4.2.\"></a>4.2. Totalistic_CA class"
   ]
  },
  {
   "cell_type": "code",
   "execution_count": null,
   "metadata": {
    "_kg_hide-input": false,
    "_uuid": "e9a489e40abb55cf2868809b85f935e6828ee4cf"
   },
   "outputs": [],
   "source": [
    "class Totalistic_CA(Totalistic_CA_Grid):\n",
    "\n",
    "    def __init__(self,grid_apparence=\"normal\",**kwargs):\n",
    "        super().__init__(**kwargs)\n",
    "\n",
    "        self.grid_apparence=grid_apparence\n",
    "\n",
    "        self.rule=None\n",
    "\n",
    "        self.rule_tenary=None\n",
    "\n",
    "    def set_grid_parameters(self,\n",
    "                            height,\n",
    "                            width,\n",
    "                            initial_number_of_black_cell=1,\n",
    "                            grid_apparence=\"normal\"):\n",
    "        self.height = height\n",
    "        self.width = width\n",
    "        self.initial_number_of_black_cell = initial_number_of_black_cell\n",
    "        \n",
    "        self.grid = None\n",
    "        self.grid_apparence=grid_apparence\n",
    "\n",
    "    def __get_rule_tenary(self):\n",
    "        length=7\n",
    "        if self.rule==0:\n",
    "            padding=length\n",
    "        else:\n",
    "            padding=length-len(np.base_repr(self.rule,base=3))\n",
    "            \n",
    "        self.rule_tenary = np.array([int(b) for b in np.base_repr(\n",
    "            number=self.rule, \n",
    "            base=3,\n",
    "            padding=padding)], dtype=np.int8)\n",
    "        \n",
    "\n",
    "    def generate(self, rule):\n",
    "\n",
    "        self.rule=rule\n",
    "        self.get_grid()\n",
    "        self.__get_rule_tenary()\n",
    "\n",
    "        for i in range(self.height-1):\n",
    "            self.grid[i+1,:]=self.step(self.grid[i,:])\n",
    "\n",
    "        if self.grid_apparence=='normal':\n",
    "            self.grid[self.grid==2]=255\n",
    "            self.grid[self.grid==1]=128\n",
    "            self.grid[self.grid==0]=0\n",
    "        \n",
    "        if self.grid_apparence=='wolfram':\n",
    "            self.grid[self.grid==1]=128\n",
    "            self.grid[self.grid==0]=255\n",
    "            self.grid[self.grid==2]=0\n",
    "        \n",
    "        return self.grid\n",
    "\n",
    "\n",
    "    def __get_neighborhood_matrix(self, center):\n",
    "        #vector that holds the neighbors on the left by shifting the row vector to the right\n",
    "        left=np.roll(center, 1)\n",
    "\n",
    "\n",
    "        #vector that holds the neighbors on the rights by shifting the row vector to the left\n",
    "        right=np.roll(center, -1)\n",
    "        \n",
    "        neighborhood_matrix=np.vstack((left, center, right)).astype(np.int8)\n",
    "\n",
    "        return neighborhood_matrix\n",
    "\n",
    "    def step(self, row):\n",
    "        neighborhood_matrix=self.__get_neighborhood_matrix(center=row)\n",
    "\n",
    "        rmts=np.sum(neighborhood_matrix, axis=0)\n",
    "        #print(\"rmts\",rmts)\n",
    "\n",
    "        return self.rule_tenary[6-rmts].astype(np.int8)"
   ]
  },
  {
   "cell_type": "markdown",
   "metadata": {
    "_uuid": "483828542df66bfaf3f42570b523a0670a4a72d7"
   },
   "source": [
    "[Go to Contents Menu](#0.)\n",
    "\n",
    "\n",
    "<a class=\"anchor\" id=\"4.3.\"></a>4.3. Show  Patterns for Totalistic Rules"
   ]
  },
  {
   "cell_type": "code",
   "execution_count": null,
   "metadata": {
    "_uuid": "0d67a3fcbb5102e5d2a296665a558ca1c4e6d180"
   },
   "outputs": [],
   "source": [
    "totalistic_rules=[224, 2049, 966, 1041, 993, 777]\n",
    "for totalistic_rule in totalistic_rules:\n",
    "    totalistic_ca=Totalistic_CA(grid_apparence=\"wolfram\")\n",
    "    ca_pattern=totalistic_ca.generate(totalistic_rule)\n",
    "    plt.figure(figsize=(12,6))\n",
    "    plt.imshow(ca_pattern,cmap=\"gray\")\n",
    "    plt.xticks([])\n",
    "    plt.yticks([])\n",
    "    plt.title(\"Totalistic CA Pattern for Code:{}\".format(totalistic_rule))\n",
    "    plt.show()"
   ]
  },
  {
   "cell_type": "code",
   "execution_count": null,
   "metadata": {
    "_uuid": "f897b03436ebd6c5689b906adc1d989d84c07a7d"
   },
   "outputs": [],
   "source": [
    "totalistic_rules=[2049, 966, 1041, 993, 777,224]\n",
    "for totalistic_rule in totalistic_rules:\n",
    "    totalistic_ca=Totalistic_CA(grid_apparence=\"wolfram\", initial_number_of_black_cell=4)\n",
    "    ca_pattern=totalistic_ca.generate(totalistic_rule)\n",
    "    plt.figure(figsize=(12,6))\n",
    "    plt.imshow(ca_pattern,cmap=\"gray\")\n",
    "    plt.xticks([])\n",
    "    plt.yticks([])\n",
    "    plt.title(\"Totalistic CA Pattern for Code:{}\".format(totalistic_rule))\n",
    "    plt.show()"
   ]
  }
 ],
 "metadata": {
  "kernelspec": {
   "display_name": "Python 3",
   "language": "python",
   "name": "python3"
  },
  "language_info": {
   "codemirror_mode": {
    "name": "ipython",
    "version": 3
   },
   "file_extension": ".py",
   "mimetype": "text/x-python",
   "name": "python",
   "nbconvert_exporter": "python",
   "pygments_lexer": "ipython3",
   "version": "3.6.9"
  }
 },
 "nbformat": 4,
 "nbformat_minor": 1
}
